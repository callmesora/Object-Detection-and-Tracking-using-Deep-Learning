{
 "cells": [
  {
   "cell_type": "markdown",
   "id": "3d4c9147",
   "metadata": {},
   "source": [
    "# Split Function"
   ]
  },
  {
   "cell_type": "code",
   "execution_count": 5,
   "id": "f5926166",
   "metadata": {},
   "outputs": [
    {
     "name": "stdout",
     "output_type": "stream",
     "text": [
      "Requirement already satisfied: tqdm in ./.local/lib/python3.8/site-packages (4.64.0)\r\n"
     ]
    }
   ],
   "source": [
    "!pip install tqdm\n"
   ]
  },
  {
   "cell_type": "code",
   "execution_count": 1,
   "id": "e6d7b4bd",
   "metadata": {},
   "outputs": [],
   "source": [
    "def split_img_label(data_train,data_test,folder_train,folder_test):\n",
    "    \n",
    "    #Create Mother Folder\n",
    "    os.mkdir(folder_train)\n",
    "    os.mkdir(folder_test)\n",
    "    \n",
    "    #Create Child Folders\n",
    "    os.mkdir(folder_train+'/images')\n",
    "    os.mkdir(folder_test+'/images')\n",
    "    \n",
    "    os.mkdir(folder_train+'/labels')\n",
    "    os.mkdir(folder_test+'/labels')\n",
    "    \n",
    "    \n",
    "    train_ind=list(data_train.index)\n",
    "    test_ind=list(data_test.index)\n",
    "    \n",
    "    \n",
    "    # Train folder\n",
    "    for i in tqdm(range(len(train_ind))):\n",
    "        \n",
    "        os.system('cp '+data_train[train_ind[i]]+' ./'+ folder_train + '/images/'  +data_train[train_ind[i]].split('/')[4])\n",
    "        #print('cp '+data_train[train_ind[i]]+' ./'+ folder_train + '/'  +data_train[train_ind[i]].split('/')[4])\n",
    "        os.system('cp '+data_train[train_ind[i]].split('.jpg')[0]+'.txt'+'  ./'+ folder_train + '/labels/'  +data_train[train_ind[i]].split('/')[4].split('.jpg')[0]+'.txt')\n",
    "    \n",
    "    # Test folder\n",
    "    for j in tqdm(range(len(test_ind))):\n",
    "        \n",
    "        os.system('cp '+data_test[test_ind[j]]+' ./'+ folder_test + '/images/'  +data_test[test_ind[j]].split('/')[4])\n",
    "        os.system('cp '+data_test[test_ind[j]].split('.jpg')[0]+'.txt'+'  ./'+ folder_test + '/labels/'  +data_test[test_ind[j]].split('/')[4].split('.jpg')[0]+'.txt')\n",
    "\n"
   ]
  },
  {
   "cell_type": "markdown",
   "id": "f61a7a85",
   "metadata": {},
   "source": [
    "# Code\n"
   ]
  },
  {
   "cell_type": "code",
   "execution_count": 2,
   "id": "93bc393e",
   "metadata": {},
   "outputs": [
    {
     "name": "stderr",
     "output_type": "stream",
     "text": [
      "100%|███████████████████████████████████████████████████████████████████████████████| 8000/8000 [02:09<00:00, 61.91it/s]\n",
      "100%|███████████████████████████████████████████████████████████████████████████████| 2000/2000 [00:30<00:00, 64.93it/s]\n"
     ]
    }
   ],
   "source": [
    "from sklearn.model_selection import train_test_split\n",
    "import glob\n",
    "import pandas as pd \n",
    "import os \n",
    "from tqdm import tqdm\n",
    "\n",
    "#https://stackoverflow.com/questions/66579311/yolov4-custom-dataset-train-test-split\n",
    "\n",
    "#PATH_img = './bdd_in_YOLOV5_whole/images/val'\n",
    "#PATH_txt = './bdd_in_YOLOV5_whole/labels/val'\n",
    "PATH = './bdd_in_YOLOV5_train_NewL/images/val/'\n",
    "\n",
    "list_img=[img for img in os.listdir(PATH) if img.endswith('.jpg')==True]\n",
    "list_txt=[img for img in os.listdir(PATH) if img.endswith('.txt')==True]\n",
    "\n",
    "path_img=[]\n",
    "\n",
    "for i in range (len(list_img)):\n",
    "    path_img.append(PATH+list_img[i])\n",
    "    \n",
    "df=pd.DataFrame(path_img)\n",
    "df.head()\n",
    "# split \n",
    "data_train, data_test, labels_train, labels_test = train_test_split(df[0], df.index, test_size=0.20, random_state=42)\n",
    "\n",
    "#print(data_train.head())\n",
    "# Function split \n",
    "split_img_label(data_train,data_test,'./bdd_in_YOLOV5_train_NewL/folder_train','./bdd_in_YOLOV5_train_NewL/folder_test')"
   ]
  },
  {
   "cell_type": "markdown",
   "id": "0b2e8848",
   "metadata": {},
   "source": [
    "# Unite Images and Labels Folder"
   ]
  },
  {
   "cell_type": "code",
   "execution_count": null,
   "id": "76f929f0",
   "metadata": {},
   "outputs": [],
   "source": [
    "#https://www.unix.com/unix-for-dummies-questions-and-answers/206599-using-unix-commands-larger-number-files.html\n",
    "# for file in Inputpath/*.[Pp][Dd][Ff]\n",
    "# do\n",
    "#   cp \"$file\" outputpath\n",
    "# done"
   ]
  },
  {
   "cell_type": "markdown",
   "id": "ec0fded1",
   "metadata": {},
   "source": [
    "# Separate Images and Labels Folder"
   ]
  },
  {
   "cell_type": "code",
   "execution_count": null,
   "id": "c5ed2f7b",
   "metadata": {},
   "outputs": [],
   "source": []
  }
 ],
 "metadata": {
  "kernelspec": {
   "display_name": "Python 3 (ipykernel)",
   "language": "python",
   "name": "python3"
  },
  "language_info": {
   "codemirror_mode": {
    "name": "ipython",
    "version": 3
   },
   "file_extension": ".py",
   "mimetype": "text/x-python",
   "name": "python",
   "nbconvert_exporter": "python",
   "pygments_lexer": "ipython3",
   "version": "3.8.10"
  }
 },
 "nbformat": 4,
 "nbformat_minor": 5
}
